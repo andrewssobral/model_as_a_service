{
 "cells": [
  {
   "cell_type": "code",
   "execution_count": 1,
   "metadata": {},
   "outputs": [],
   "source": [
    "import sys, bz2, uuid, requests, json, pickle\n",
    "import pandas as pd\n",
    "import numpy as np\n",
    "\n",
    "from sklearn.datasets import load_iris\n",
    "from sklearn.model_selection import train_test_split\n",
    "from sklearn.metrics import accuracy_score\n",
    "\n",
    "from joblib import dump, load"
   ]
  },
  {
   "cell_type": "code",
   "execution_count": 2,
   "metadata": {},
   "outputs": [],
   "source": [
    "# defining the api-endpoint  \n",
    "API_PREDICT_ENDPOINT = 'http://localhost:9090/api/predict'\n",
    "\n",
    "# your API key here \n",
    "#API_KEY = \"XXXXXXXXXXXXXXXXX\""
   ]
  },
  {
   "cell_type": "code",
   "execution_count": 3,
   "metadata": {},
   "outputs": [],
   "source": [
    "iris = load_iris()\n",
    "dataframe_load = pd.DataFrame(iris.data)\n",
    "dataframe_load.columns = iris.feature_names \n",
    "data_label = iris.target\n",
    "dataframe = dataframe_load.assign(LABEL=data_label)"
   ]
  },
  {
   "cell_type": "code",
   "execution_count": 4,
   "metadata": {},
   "outputs": [],
   "source": [
    "_, dataframe_test = train_test_split(dataframe, test_size=0.1)\n",
    "dataframe_test  = dataframe_test.reset_index(drop=True)"
   ]
  },
  {
   "cell_type": "code",
   "execution_count": 5,
   "metadata": {},
   "outputs": [],
   "source": [
    "LABEL_COLUMN = 'LABEL'\n",
    "columns = [LABEL_COLUMN]"
   ]
  },
  {
   "cell_type": "code",
   "execution_count": 6,
   "metadata": {},
   "outputs": [],
   "source": [
    "X_test = dataframe_test.drop(columns, axis=1, inplace=False)\n",
    "y_test = dataframe_test.filter(columns, axis=1)"
   ]
  },
  {
   "cell_type": "code",
   "execution_count": 7,
   "metadata": {},
   "outputs": [
    {
     "name": "stdout",
     "output_type": "stream",
     "text": [
      "dataframe_json:\n",
      " [[6.9,3.1,4.9,1.5],[5.0,3.4,1.5,0.2],[5.5,3.5,1.3,0.2],[5.0,3.5,1.3,0.3],[6.5,3.0,5.5,1.8],[6.3,2.3,4.4,1.3],[4.6,3.4,1.4,0.3],[5.6,2.9,3.6,1.3],[7.9,3.8,6.4,2.0],[4.8,3.4,1.6,0.2],[5.6,2.8,4.9,2.0],[4.7,3.2,1.3,0.2],[6.7,3.0,5.2,2.3],[6.9,3.1,5.4,2.1],[6.4,3.1,5.5,1.8]]\n"
     ]
    }
   ],
   "source": [
    "# convert the dataframe to JSON\n",
    "dataframe_json = X_test.to_json(orient='values')\n",
    "print(\"dataframe_json:\\n\", dataframe_json)"
   ]
  },
  {
   "cell_type": "code",
   "execution_count": 8,
   "metadata": {},
   "outputs": [
    {
     "name": "stdout",
     "output_type": "stream",
     "text": [
      "predictions:\n",
      " \"[1 0 0 0 2 1 0 1 2 0 2 0 2 2 2]\"\n"
     ]
    }
   ],
   "source": [
    "# send the request and get the results\n",
    "headers = {'content-type': 'application/json', 'Accept-Charset': 'UTF-8'}\n",
    "data = {\n",
    "  'dataframe_json' : dataframe_json\n",
    "}\n",
    "data_json = json.dumps(data)\n",
    "req = requests.post(API_PREDICT_ENDPOINT, data=data_json, headers=headers)\n",
    "#print(req, req.text)\n",
    "\n",
    "predictions = json.loads(req.text)\n",
    "print(\"predictions:\\n\", predictions)"
   ]
  },
  {
   "cell_type": "code",
   "execution_count": 9,
   "metadata": {},
   "outputs": [
    {
     "data": {
      "text/plain": [
       "array([1, 0, 0, 0, 2, 1, 0, 1, 2, 0, 2, 0, 2, 2, 2])"
      ]
     },
     "execution_count": 9,
     "metadata": {},
     "output_type": "execute_result"
    }
   ],
   "source": [
    "y_pred = np.fromstring(predictions[2:-2], dtype=int, sep=' ')\n",
    "y_pred"
   ]
  },
  {
   "cell_type": "code",
   "execution_count": 10,
   "metadata": {},
   "outputs": [
    {
     "name": "stdout",
     "output_type": "stream",
     "text": [
      "accuracy_score: 1.0\n"
     ]
    }
   ],
   "source": [
    "acc = accuracy_score(y_true=y_test, y_pred=y_pred)\n",
    "print(\"accuracy_score:\", acc)"
   ]
  },
  {
   "cell_type": "code",
   "execution_count": null,
   "metadata": {},
   "outputs": [],
   "source": []
  }
 ],
 "metadata": {
  "kernelspec": {
   "display_name": "Python 3",
   "language": "python",
   "name": "python3"
  },
  "language_info": {
   "codemirror_mode": {
    "name": "ipython",
    "version": 3
   },
   "file_extension": ".py",
   "mimetype": "text/x-python",
   "name": "python",
   "nbconvert_exporter": "python",
   "pygments_lexer": "ipython3",
   "version": "3.6.6"
  }
 },
 "nbformat": 4,
 "nbformat_minor": 4
}
